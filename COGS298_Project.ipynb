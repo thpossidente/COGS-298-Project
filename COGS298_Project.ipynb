{
  "nbformat": 4,
  "nbformat_minor": 0,
  "metadata": {
    "colab": {
      "name": "COGS298_Project.ipynb",
      "version": "0.3.2",
      "provenance": [],
      "collapsed_sections": [],
      "include_colab_link": true
    },
    "kernelspec": {
      "name": "python3",
      "display_name": "Python 3"
    }
  },
  "cells": [
    {
      "cell_type": "markdown",
      "metadata": {
        "id": "view-in-github",
        "colab_type": "text"
      },
      "source": [
        "<a href=\"https://colab.research.google.com/github/thpossidente/COGS-298-Project/blob/master/COGS298_Project.ipynb\" target=\"_parent\"><img src=\"https://colab.research.google.com/assets/colab-badge.svg\" alt=\"Open In Colab\"/></a>"
      ]
    },
    {
      "metadata": {
        "id": "kggCavNUyFc4",
        "colab_type": "code",
        "colab": {
          "base_uri": "https://localhost:8080/",
          "height": 35
        },
        "outputId": "e46706dc-64c8-42cf-fe76-79553411fc6e"
      },
      "cell_type": "code",
      "source": [
        "import keras\n",
        "from keras.layers import Flatten\n",
        "from keras.models import Sequential\n",
        "from keras.layers import Dense\n",
        "from keras.layers import Dropout\n",
        "from keras.constraints import maxnorm\n",
        "import numpy as np\n",
        "from matplotlib import pyplot as plt\n",
        "from IPython.display import clear_output\n",
        "\n"
      ],
      "execution_count": 1,
      "outputs": [
        {
          "output_type": "stream",
          "text": [
            "Using TensorFlow backend.\n"
          ],
          "name": "stderr"
        }
      ]
    },
    {
      "metadata": {
        "id": "un_pftkx4Srr",
        "colab_type": "text"
      },
      "cell_type": "markdown",
      "source": [
        "Load the Data that will be used to train the network.\n",
        "\n",
        "Start with \"GameDataTom\" and \"2017Wins.\""
      ]
    },
    {
      "metadata": {
        "id": "w7TyqG3l34OB",
        "colab_type": "code",
        "colab": {
          "resources": {
            "http://localhost:8080/nbextensions/google.colab/files.js": {
              "data": "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",
              "ok": true,
              "headers": [
                [
                  "content-type",
                  "application/javascript"
                ]
              ],
              "status": 200,
              "status_text": ""
            }
          },
          "base_uri": "https://localhost:8080/",
          "height": 108
        },
        "outputId": "fe26cb89-8e01-4d82-acd8-4cb8330ed0f9"
      },
      "cell_type": "code",
      "source": [
        "from google.colab import files\n",
        "uploaded = files.upload()"
      ],
      "execution_count": 20,
      "outputs": [
        {
          "output_type": "display_data",
          "data": {
            "text/html": [
              "\n",
              "     <input type=\"file\" id=\"files-899872b3-82bf-4209-b78c-11181116f17c\" name=\"files[]\" multiple disabled />\n",
              "     <output id=\"result-899872b3-82bf-4209-b78c-11181116f17c\">\n",
              "      Upload widget is only available when the cell has been executed in the\n",
              "      current browser session. Please rerun this cell to enable.\n",
              "      </output>\n",
              "      <script src=\"/nbextensions/google.colab/files.js\"></script> "
            ],
            "text/plain": [
              "<IPython.core.display.HTML object>"
            ]
          },
          "metadata": {
            "tags": []
          }
        },
        {
          "output_type": "stream",
          "text": [
            "Saving 2017Wins.csv to 2017Wins (1).csv\n",
            "Saving GameDataTom.csv to GameDataTom (2).csv\n"
          ],
          "name": "stdout"
        }
      ]
    },
    {
      "metadata": {
        "id": "sUVBaR1C7xTa",
        "colab_type": "text"
      },
      "cell_type": "markdown",
      "source": [
        "The code below just allows us see what files were uploaded."
      ]
    },
    {
      "metadata": {
        "id": "WQdEpEjJ4ABG",
        "colab_type": "code",
        "colab": {
          "base_uri": "https://localhost:8080/",
          "height": 52
        },
        "outputId": "b7d5efbe-8b73-4c41-8a2e-2b6a59f4d096"
      },
      "cell_type": "code",
      "source": [
        "for fn in uploaded.keys():\n",
        "  print('User uploaded file \"{name}\" with length {length} bytes'.format(name=fn, length=len(uploaded[fn])))"
      ],
      "execution_count": 21,
      "outputs": [
        {
          "output_type": "stream",
          "text": [
            "User uploaded file \"2017Wins.csv\" with length 8191 bytes\n",
            "User uploaded file \"GameDataTom.csv\" with length 383610 bytes\n"
          ],
          "name": "stdout"
        }
      ]
    },
    {
      "metadata": {
        "id": "XiiVy9BA9KLO",
        "colab_type": "text"
      },
      "cell_type": "markdown",
      "source": [
        "Reading the training files and formatting appropriately."
      ]
    },
    {
      "metadata": {
        "id": "bb4I5dr24Fu8",
        "colab_type": "code",
        "colab": {}
      },
      "cell_type": "code",
      "source": [
        "import pandas as pd\n",
        "import io\n",
        "#teamdata = pd.read_csv(io.StringIO(uploaded['2017SeasonStats.csv'].decode('utf-8')), header = 0)\n",
        "teamdata = pd.read_csv(io.StringIO(uploaded['GameDataTom.csv'].decode('utf-8')), header = 0)\n",
        "wins = pd.read_csv(io.StringIO(uploaded['2017Wins.csv'].decode('utf-8')), header = 0)\n",
        "teamdata = teamdata.drop(teamdata.columns[0], axis=1)\n",
        "wins = wins.drop(wins.columns[0], axis=1)\n",
        "\n",
        "wins = wins.values\n",
        "teamdata = teamdata.values\n"
      ],
      "execution_count": 0,
      "outputs": []
    },
    {
      "metadata": {
        "id": "_3aa-PXJQA0l",
        "colab_type": "text"
      },
      "cell_type": "markdown",
      "source": [
        "Upload \"2017OctoberDecStatsTestTom\" and \"2017WinsOctoberDecTest\""
      ]
    },
    {
      "metadata": {
        "id": "3QloUHUiBP7R",
        "colab_type": "code",
        "colab": {
          "resources": {
            "http://localhost:8080/nbextensions/google.colab/files.js": {
              "data": "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",
              "ok": true,
              "headers": [
                [
                  "content-type",
                  "application/javascript"
                ]
              ],
              "status": 200,
              "status_text": ""
            }
          },
          "base_uri": "https://localhost:8080/",
          "height": 38
        },
        "outputId": "fd604a7f-f137-4989-8fd8-df696bcd75d7"
      },
      "cell_type": "code",
      "source": [
        "from google.colab import files\n",
        "uploaded = files.upload()\n",
        "for fn in uploaded.keys():\n",
        "  print('User uploaded file \"{name}\" with length {length} bytes'.format(name=fn, length=len(uploaded[fn])))"
      ],
      "execution_count": 39,
      "outputs": [
        {
          "output_type": "display_data",
          "data": {
            "text/html": [
              "\n",
              "     <input type=\"file\" id=\"files-85530ab5-33be-4697-802b-593ecdc0777a\" name=\"files[]\" multiple disabled />\n",
              "     <output id=\"result-85530ab5-33be-4697-802b-593ecdc0777a\">\n",
              "      Upload widget is only available when the cell has been executed in the\n",
              "      current browser session. Please rerun this cell to enable.\n",
              "      </output>\n",
              "      <script src=\"/nbextensions/google.colab/files.js\"></script> "
            ],
            "text/plain": [
              "<IPython.core.display.HTML object>"
            ]
          },
          "metadata": {
            "tags": []
          }
        }
      ]
    },
    {
      "metadata": {
        "id": "uBnbD7J39eKM",
        "colab_type": "text"
      },
      "cell_type": "markdown",
      "source": [
        "Reading the test files and format appropriately."
      ]
    },
    {
      "metadata": {
        "id": "Tj4JbYWTBwmA",
        "colab_type": "code",
        "colab": {}
      },
      "cell_type": "code",
      "source": [
        "teamdatatest = pd.read_csv(io.StringIO(uploaded['2017OctoberDecStatsTestTom.csv'].decode('utf-8')), header = 0)\n",
        "winstest = pd.read_csv(io.StringIO(uploaded['2017WinsOctoberDecTest.csv'].decode('utf-8')), header = 0)\n",
        "teamdatatest = teamdatatest.drop(teamdatatest.columns[0], axis=1)\n",
        "winstest = winstest.drop(winstest.columns[0], axis=1)\n",
        "\n",
        "winstest = winstest.values\n",
        "teamdatatest = teamdatatest.values"
      ],
      "execution_count": 0,
      "outputs": []
    },
    {
      "metadata": {
        "id": "KlNFFve39o_O",
        "colab_type": "text"
      },
      "cell_type": "markdown",
      "source": [
        "Reshaping the training data so that it is in 3 dimensions."
      ]
    },
    {
      "metadata": {
        "id": "-XHtn-w0tNJr",
        "colab_type": "code",
        "colab": {},
        "cellView": "code"
      },
      "cell_type": "code",
      "source": [
        "# Dimensions: (row, column, 3ds) \n",
        "teamdata = teamdata.reshape(987,36,1)\n",
        "wins = wins.reshape(987,1)\n",
        "#teamdata[0]"
      ],
      "execution_count": 0,
      "outputs": []
    },
    {
      "metadata": {
        "id": "wDBQcR46HQ_N",
        "colab_type": "code",
        "colab": {
          "base_uri": "https://localhost:8080/",
          "height": 16796
        },
        "outputId": "cd263fa0-bd8b-40e3-b0aa-c7088486cefb"
      },
      "cell_type": "code",
      "source": [
        "#wins\n"
      ],
      "execution_count": 0,
      "outputs": [
        {
          "output_type": "execute_result",
          "data": {
            "text/plain": [
              "array([[0],\n",
              "       [0],\n",
              "       [1],\n",
              "       [1],\n",
              "       [1],\n",
              "       [0],\n",
              "       [1],\n",
              "       [1],\n",
              "       [1],\n",
              "       [0],\n",
              "       [1],\n",
              "       [1],\n",
              "       [0],\n",
              "       [0],\n",
              "       [0],\n",
              "       [0],\n",
              "       [0],\n",
              "       [0],\n",
              "       [1],\n",
              "       [0],\n",
              "       [0],\n",
              "       [0],\n",
              "       [1],\n",
              "       [1],\n",
              "       [1],\n",
              "       [1],\n",
              "       [1],\n",
              "       [1],\n",
              "       [0],\n",
              "       [0],\n",
              "       [0],\n",
              "       [0],\n",
              "       [0],\n",
              "       [0],\n",
              "       [0],\n",
              "       [1],\n",
              "       [0],\n",
              "       [0],\n",
              "       [0],\n",
              "       [0],\n",
              "       [0],\n",
              "       [0],\n",
              "       [0],\n",
              "       [0],\n",
              "       [1],\n",
              "       [0],\n",
              "       [1],\n",
              "       [0],\n",
              "       [0],\n",
              "       [0],\n",
              "       [1],\n",
              "       [1],\n",
              "       [1],\n",
              "       [1],\n",
              "       [1],\n",
              "       [0],\n",
              "       [1],\n",
              "       [0],\n",
              "       [0],\n",
              "       [0],\n",
              "       [1],\n",
              "       [1],\n",
              "       [1],\n",
              "       [0],\n",
              "       [1],\n",
              "       [0],\n",
              "       [0],\n",
              "       [0],\n",
              "       [1],\n",
              "       [1],\n",
              "       [0],\n",
              "       [1],\n",
              "       [1],\n",
              "       [0],\n",
              "       [1],\n",
              "       [0],\n",
              "       [1],\n",
              "       [1],\n",
              "       [1],\n",
              "       [1],\n",
              "       [1],\n",
              "       [0],\n",
              "       [1],\n",
              "       [0],\n",
              "       [1],\n",
              "       [0],\n",
              "       [0],\n",
              "       [1],\n",
              "       [0],\n",
              "       [0],\n",
              "       [1],\n",
              "       [0],\n",
              "       [0],\n",
              "       [1],\n",
              "       [0],\n",
              "       [1],\n",
              "       [1],\n",
              "       [0],\n",
              "       [0],\n",
              "       [1],\n",
              "       [0],\n",
              "       [1],\n",
              "       [1],\n",
              "       [1],\n",
              "       [0],\n",
              "       [0],\n",
              "       [0],\n",
              "       [0],\n",
              "       [1],\n",
              "       [1],\n",
              "       [0],\n",
              "       [0],\n",
              "       [1],\n",
              "       [1],\n",
              "       [1],\n",
              "       [1],\n",
              "       [0],\n",
              "       [1],\n",
              "       [0],\n",
              "       [1],\n",
              "       [0],\n",
              "       [1],\n",
              "       [0],\n",
              "       [0],\n",
              "       [0],\n",
              "       [1],\n",
              "       [0],\n",
              "       [0],\n",
              "       [1],\n",
              "       [1],\n",
              "       [0],\n",
              "       [1],\n",
              "       [0],\n",
              "       [0],\n",
              "       [1],\n",
              "       [0],\n",
              "       [1],\n",
              "       [0],\n",
              "       [0],\n",
              "       [0],\n",
              "       [1],\n",
              "       [1],\n",
              "       [0],\n",
              "       [0],\n",
              "       [0],\n",
              "       [0],\n",
              "       [1],\n",
              "       [0],\n",
              "       [0],\n",
              "       [0],\n",
              "       [0],\n",
              "       [0],\n",
              "       [0],\n",
              "       [1],\n",
              "       [0],\n",
              "       [0],\n",
              "       [1],\n",
              "       [1],\n",
              "       [1],\n",
              "       [1],\n",
              "       [1],\n",
              "       [0],\n",
              "       [0],\n",
              "       [0],\n",
              "       [0],\n",
              "       [0],\n",
              "       [0],\n",
              "       [0],\n",
              "       [0],\n",
              "       [0],\n",
              "       [0],\n",
              "       [0],\n",
              "       [0],\n",
              "       [1],\n",
              "       [0],\n",
              "       [0],\n",
              "       [1],\n",
              "       [0],\n",
              "       [0],\n",
              "       [1],\n",
              "       [1],\n",
              "       [0],\n",
              "       [1],\n",
              "       [0],\n",
              "       [1],\n",
              "       [1],\n",
              "       [1],\n",
              "       [0],\n",
              "       [1],\n",
              "       [1],\n",
              "       [1],\n",
              "       [1],\n",
              "       [0],\n",
              "       [0],\n",
              "       [1],\n",
              "       [0],\n",
              "       [0],\n",
              "       [0],\n",
              "       [0],\n",
              "       [1],\n",
              "       [0],\n",
              "       [0],\n",
              "       [0],\n",
              "       [1],\n",
              "       [0],\n",
              "       [0],\n",
              "       [1],\n",
              "       [0],\n",
              "       [0],\n",
              "       [0],\n",
              "       [1],\n",
              "       [1],\n",
              "       [0],\n",
              "       [0],\n",
              "       [1],\n",
              "       [1],\n",
              "       [1],\n",
              "       [0],\n",
              "       [1],\n",
              "       [0],\n",
              "       [1],\n",
              "       [1],\n",
              "       [0],\n",
              "       [0],\n",
              "       [0],\n",
              "       [1],\n",
              "       [1],\n",
              "       [1],\n",
              "       [1],\n",
              "       [0],\n",
              "       [0],\n",
              "       [1],\n",
              "       [0],\n",
              "       [1],\n",
              "       [0],\n",
              "       [0],\n",
              "       [1],\n",
              "       [0],\n",
              "       [0],\n",
              "       [0],\n",
              "       [1],\n",
              "       [0],\n",
              "       [0],\n",
              "       [0],\n",
              "       [0],\n",
              "       [0],\n",
              "       [0],\n",
              "       [1],\n",
              "       [0],\n",
              "       [0],\n",
              "       [0],\n",
              "       [0],\n",
              "       [1],\n",
              "       [0],\n",
              "       [0],\n",
              "       [0],\n",
              "       [0],\n",
              "       [1],\n",
              "       [1],\n",
              "       [1],\n",
              "       [1],\n",
              "       [1],\n",
              "       [0],\n",
              "       [0],\n",
              "       [0],\n",
              "       [1],\n",
              "       [0],\n",
              "       [1],\n",
              "       [0],\n",
              "       [1],\n",
              "       [1],\n",
              "       [1],\n",
              "       [0],\n",
              "       [1],\n",
              "       [1],\n",
              "       [0],\n",
              "       [0],\n",
              "       [0],\n",
              "       [1],\n",
              "       [1],\n",
              "       [0],\n",
              "       [1],\n",
              "       [0],\n",
              "       [1],\n",
              "       [1],\n",
              "       [0],\n",
              "       [1],\n",
              "       [0],\n",
              "       [0],\n",
              "       [1],\n",
              "       [1],\n",
              "       [0],\n",
              "       [0],\n",
              "       [0],\n",
              "       [0],\n",
              "       [0],\n",
              "       [1],\n",
              "       [0],\n",
              "       [0],\n",
              "       [1],\n",
              "       [1],\n",
              "       [1],\n",
              "       [1],\n",
              "       [0],\n",
              "       [0],\n",
              "       [1],\n",
              "       [0],\n",
              "       [0],\n",
              "       [0],\n",
              "       [0],\n",
              "       [1],\n",
              "       [0],\n",
              "       [0],\n",
              "       [0],\n",
              "       [0],\n",
              "       [0],\n",
              "       [1],\n",
              "       [1],\n",
              "       [1],\n",
              "       [0],\n",
              "       [1],\n",
              "       [0],\n",
              "       [1],\n",
              "       [0],\n",
              "       [1],\n",
              "       [0],\n",
              "       [0],\n",
              "       [0],\n",
              "       [0],\n",
              "       [1],\n",
              "       [1],\n",
              "       [0],\n",
              "       [0],\n",
              "       [0],\n",
              "       [1],\n",
              "       [0],\n",
              "       [0],\n",
              "       [1],\n",
              "       [0],\n",
              "       [0],\n",
              "       [1],\n",
              "       [0],\n",
              "       [0],\n",
              "       [0],\n",
              "       [0],\n",
              "       [0],\n",
              "       [0],\n",
              "       [1],\n",
              "       [1],\n",
              "       [1],\n",
              "       [1],\n",
              "       [1],\n",
              "       [0],\n",
              "       [1],\n",
              "       [0],\n",
              "       [1],\n",
              "       [1],\n",
              "       [0],\n",
              "       [0],\n",
              "       [1],\n",
              "       [0],\n",
              "       [1],\n",
              "       [0],\n",
              "       [0],\n",
              "       [1],\n",
              "       [0],\n",
              "       [1],\n",
              "       [1],\n",
              "       [1],\n",
              "       [0],\n",
              "       [0],\n",
              "       [0],\n",
              "       [0],\n",
              "       [1],\n",
              "       [0],\n",
              "       [0],\n",
              "       [0],\n",
              "       [0],\n",
              "       [1],\n",
              "       [1],\n",
              "       [0],\n",
              "       [0],\n",
              "       [0],\n",
              "       [1],\n",
              "       [1],\n",
              "       [0],\n",
              "       [0],\n",
              "       [0],\n",
              "       [0],\n",
              "       [0],\n",
              "       [1],\n",
              "       [1],\n",
              "       [0],\n",
              "       [1],\n",
              "       [1],\n",
              "       [0],\n",
              "       [1],\n",
              "       [1],\n",
              "       [0],\n",
              "       [0],\n",
              "       [0],\n",
              "       [1],\n",
              "       [1],\n",
              "       [0],\n",
              "       [0],\n",
              "       [1],\n",
              "       [0],\n",
              "       [1],\n",
              "       [1],\n",
              "       [1],\n",
              "       [0],\n",
              "       [0],\n",
              "       [1],\n",
              "       [0],\n",
              "       [0],\n",
              "       [1],\n",
              "       [0],\n",
              "       [1],\n",
              "       [0],\n",
              "       [0],\n",
              "       [1],\n",
              "       [0],\n",
              "       [0],\n",
              "       [1],\n",
              "       [0],\n",
              "       [0],\n",
              "       [0],\n",
              "       [1],\n",
              "       [0],\n",
              "       [1],\n",
              "       [1],\n",
              "       [0],\n",
              "       [0],\n",
              "       [0],\n",
              "       [0],\n",
              "       [1],\n",
              "       [0],\n",
              "       [1],\n",
              "       [1],\n",
              "       [1],\n",
              "       [0],\n",
              "       [1],\n",
              "       [0],\n",
              "       [1],\n",
              "       [0],\n",
              "       [1],\n",
              "       [0],\n",
              "       [0],\n",
              "       [1],\n",
              "       [0],\n",
              "       [0],\n",
              "       [1],\n",
              "       [0],\n",
              "       [0],\n",
              "       [0],\n",
              "       [0],\n",
              "       [0],\n",
              "       [1],\n",
              "       [0],\n",
              "       [0],\n",
              "       [0],\n",
              "       [1],\n",
              "       [1],\n",
              "       [0],\n",
              "       [0],\n",
              "       [0],\n",
              "       [1],\n",
              "       [0],\n",
              "       [1],\n",
              "       [0],\n",
              "       [1],\n",
              "       [1],\n",
              "       [1],\n",
              "       [0],\n",
              "       [1],\n",
              "       [0],\n",
              "       [1],\n",
              "       [0],\n",
              "       [1],\n",
              "       [1],\n",
              "       [0],\n",
              "       [0],\n",
              "       [0],\n",
              "       [0],\n",
              "       [0],\n",
              "       [0],\n",
              "       [1],\n",
              "       [0],\n",
              "       [0],\n",
              "       [0],\n",
              "       [0],\n",
              "       [1],\n",
              "       [0],\n",
              "       [1],\n",
              "       [1],\n",
              "       [0],\n",
              "       [0],\n",
              "       [0],\n",
              "       [0],\n",
              "       [0],\n",
              "       [0],\n",
              "       [0],\n",
              "       [0],\n",
              "       [0],\n",
              "       [0],\n",
              "       [1],\n",
              "       [1],\n",
              "       [1],\n",
              "       [1],\n",
              "       [1],\n",
              "       [1],\n",
              "       [0],\n",
              "       [0],\n",
              "       [0],\n",
              "       [1],\n",
              "       [0],\n",
              "       [0],\n",
              "       [1],\n",
              "       [1],\n",
              "       [0],\n",
              "       [0],\n",
              "       [0],\n",
              "       [1],\n",
              "       [0],\n",
              "       [1],\n",
              "       [1],\n",
              "       [1],\n",
              "       [0],\n",
              "       [0],\n",
              "       [1],\n",
              "       [0],\n",
              "       [0],\n",
              "       [0],\n",
              "       [0],\n",
              "       [1],\n",
              "       [0],\n",
              "       [1],\n",
              "       [0],\n",
              "       [0],\n",
              "       [1],\n",
              "       [1],\n",
              "       [0],\n",
              "       [1],\n",
              "       [0],\n",
              "       [0],\n",
              "       [1],\n",
              "       [0],\n",
              "       [1],\n",
              "       [0],\n",
              "       [1],\n",
              "       [1],\n",
              "       [0],\n",
              "       [1],\n",
              "       [0],\n",
              "       [1],\n",
              "       [1],\n",
              "       [0],\n",
              "       [1],\n",
              "       [0],\n",
              "       [0],\n",
              "       [0],\n",
              "       [1],\n",
              "       [0],\n",
              "       [0],\n",
              "       [1],\n",
              "       [0],\n",
              "       [1],\n",
              "       [0],\n",
              "       [1],\n",
              "       [1],\n",
              "       [0],\n",
              "       [0],\n",
              "       [0],\n",
              "       [0],\n",
              "       [1],\n",
              "       [1],\n",
              "       [0],\n",
              "       [0],\n",
              "       [0],\n",
              "       [0],\n",
              "       [0],\n",
              "       [1],\n",
              "       [0],\n",
              "       [0],\n",
              "       [1],\n",
              "       [1],\n",
              "       [1],\n",
              "       [1],\n",
              "       [1],\n",
              "       [1],\n",
              "       [0],\n",
              "       [1],\n",
              "       [0],\n",
              "       [0],\n",
              "       [0],\n",
              "       [1],\n",
              "       [1],\n",
              "       [0],\n",
              "       [1],\n",
              "       [1],\n",
              "       [0],\n",
              "       [1],\n",
              "       [0],\n",
              "       [0],\n",
              "       [0],\n",
              "       [1],\n",
              "       [0],\n",
              "       [0],\n",
              "       [1],\n",
              "       [0],\n",
              "       [0],\n",
              "       [1],\n",
              "       [1],\n",
              "       [0],\n",
              "       [0],\n",
              "       [1],\n",
              "       [0],\n",
              "       [0],\n",
              "       [0],\n",
              "       [1],\n",
              "       [1],\n",
              "       [0],\n",
              "       [1],\n",
              "       [0],\n",
              "       [1],\n",
              "       [1],\n",
              "       [0],\n",
              "       [0],\n",
              "       [0],\n",
              "       [0],\n",
              "       [1],\n",
              "       [1],\n",
              "       [1],\n",
              "       [0],\n",
              "       [0],\n",
              "       [0],\n",
              "       [0],\n",
              "       [1],\n",
              "       [1],\n",
              "       [0],\n",
              "       [0],\n",
              "       [0],\n",
              "       [1],\n",
              "       [0],\n",
              "       [1],\n",
              "       [0],\n",
              "       [1],\n",
              "       [0],\n",
              "       [0],\n",
              "       [0],\n",
              "       [0],\n",
              "       [1],\n",
              "       [1],\n",
              "       [0],\n",
              "       [0],\n",
              "       [0],\n",
              "       [1],\n",
              "       [1],\n",
              "       [1],\n",
              "       [1],\n",
              "       [0],\n",
              "       [0],\n",
              "       [0],\n",
              "       [0],\n",
              "       [0],\n",
              "       [0],\n",
              "       [1],\n",
              "       [1],\n",
              "       [0],\n",
              "       [1],\n",
              "       [0],\n",
              "       [0],\n",
              "       [0],\n",
              "       [0],\n",
              "       [0],\n",
              "       [1],\n",
              "       [0],\n",
              "       [0],\n",
              "       [0],\n",
              "       [0],\n",
              "       [0],\n",
              "       [0],\n",
              "       [1],\n",
              "       [0],\n",
              "       [1],\n",
              "       [1],\n",
              "       [1],\n",
              "       [1],\n",
              "       [0],\n",
              "       [1],\n",
              "       [1],\n",
              "       [0],\n",
              "       [0],\n",
              "       [0],\n",
              "       [0],\n",
              "       [1],\n",
              "       [0],\n",
              "       [1],\n",
              "       [0],\n",
              "       [0],\n",
              "       [1],\n",
              "       [1],\n",
              "       [0],\n",
              "       [0],\n",
              "       [1],\n",
              "       [1],\n",
              "       [1],\n",
              "       [1],\n",
              "       [0],\n",
              "       [1],\n",
              "       [0],\n",
              "       [0],\n",
              "       [0],\n",
              "       [0],\n",
              "       [1],\n",
              "       [0],\n",
              "       [0],\n",
              "       [1],\n",
              "       [0],\n",
              "       [0],\n",
              "       [0],\n",
              "       [0],\n",
              "       [1],\n",
              "       [1],\n",
              "       [0],\n",
              "       [0],\n",
              "       [0],\n",
              "       [0],\n",
              "       [0],\n",
              "       [1],\n",
              "       [1],\n",
              "       [0],\n",
              "       [0],\n",
              "       [0],\n",
              "       [0],\n",
              "       [0],\n",
              "       [1],\n",
              "       [0],\n",
              "       [0],\n",
              "       [0],\n",
              "       [0],\n",
              "       [0],\n",
              "       [0],\n",
              "       [0],\n",
              "       [0],\n",
              "       [0],\n",
              "       [0],\n",
              "       [1],\n",
              "       [0],\n",
              "       [0],\n",
              "       [1],\n",
              "       [0],\n",
              "       [0],\n",
              "       [1],\n",
              "       [0],\n",
              "       [1],\n",
              "       [1],\n",
              "       [0],\n",
              "       [1],\n",
              "       [0],\n",
              "       [0],\n",
              "       [0],\n",
              "       [0],\n",
              "       [0],\n",
              "       [1],\n",
              "       [1],\n",
              "       [1],\n",
              "       [0],\n",
              "       [1],\n",
              "       [1],\n",
              "       [1],\n",
              "       [1],\n",
              "       [0],\n",
              "       [0],\n",
              "       [0],\n",
              "       [1],\n",
              "       [0],\n",
              "       [1],\n",
              "       [1],\n",
              "       [0],\n",
              "       [0],\n",
              "       [1],\n",
              "       [1],\n",
              "       [0],\n",
              "       [1],\n",
              "       [0],\n",
              "       [0],\n",
              "       [0],\n",
              "       [0],\n",
              "       [0],\n",
              "       [1],\n",
              "       [1],\n",
              "       [1],\n",
              "       [0],\n",
              "       [0],\n",
              "       [0],\n",
              "       [0],\n",
              "       [0],\n",
              "       [1],\n",
              "       [1],\n",
              "       [1],\n",
              "       [0],\n",
              "       [1],\n",
              "       [0],\n",
              "       [0],\n",
              "       [0],\n",
              "       [1],\n",
              "       [0],\n",
              "       [1],\n",
              "       [1],\n",
              "       [0],\n",
              "       [0],\n",
              "       [1],\n",
              "       [0],\n",
              "       [1],\n",
              "       [0],\n",
              "       [1],\n",
              "       [1],\n",
              "       [0],\n",
              "       [0],\n",
              "       [0],\n",
              "       [0],\n",
              "       [1],\n",
              "       [1],\n",
              "       [0],\n",
              "       [1],\n",
              "       [0],\n",
              "       [0],\n",
              "       [0],\n",
              "       [1],\n",
              "       [0],\n",
              "       [0],\n",
              "       [1],\n",
              "       [1],\n",
              "       [0],\n",
              "       [1],\n",
              "       [1],\n",
              "       [1],\n",
              "       [0],\n",
              "       [0],\n",
              "       [1],\n",
              "       [0],\n",
              "       [1],\n",
              "       [1],\n",
              "       [0],\n",
              "       [0],\n",
              "       [0],\n",
              "       [1],\n",
              "       [0],\n",
              "       [1],\n",
              "       [0],\n",
              "       [1],\n",
              "       [0],\n",
              "       [1],\n",
              "       [1],\n",
              "       [0],\n",
              "       [1],\n",
              "       [0],\n",
              "       [0],\n",
              "       [0],\n",
              "       [1],\n",
              "       [0],\n",
              "       [1],\n",
              "       [1],\n",
              "       [1],\n",
              "       [1],\n",
              "       [0],\n",
              "       [0],\n",
              "       [0],\n",
              "       [1],\n",
              "       [0],\n",
              "       [1],\n",
              "       [1],\n",
              "       [0],\n",
              "       [0],\n",
              "       [1],\n",
              "       [1],\n",
              "       [1],\n",
              "       [0],\n",
              "       [1],\n",
              "       [0],\n",
              "       [0],\n",
              "       [0],\n",
              "       [0],\n",
              "       [1],\n",
              "       [0],\n",
              "       [1],\n",
              "       [0],\n",
              "       [1],\n",
              "       [0],\n",
              "       [0],\n",
              "       [1],\n",
              "       [0],\n",
              "       [1],\n",
              "       [0],\n",
              "       [0],\n",
              "       [0],\n",
              "       [1],\n",
              "       [0],\n",
              "       [1],\n",
              "       [1],\n",
              "       [1],\n",
              "       [1],\n",
              "       [1],\n",
              "       [1],\n",
              "       [1],\n",
              "       [0],\n",
              "       [0],\n",
              "       [1],\n",
              "       [0],\n",
              "       [0],\n",
              "       [1],\n",
              "       [1],\n",
              "       [0],\n",
              "       [0],\n",
              "       [1],\n",
              "       [0],\n",
              "       [1],\n",
              "       [1],\n",
              "       [0],\n",
              "       [0],\n",
              "       [0],\n",
              "       [0],\n",
              "       [1],\n",
              "       [1],\n",
              "       [0],\n",
              "       [1],\n",
              "       [0],\n",
              "       [0],\n",
              "       [0],\n",
              "       [0],\n",
              "       [1],\n",
              "       [1],\n",
              "       [0],\n",
              "       [0],\n",
              "       [1],\n",
              "       [0],\n",
              "       [0],\n",
              "       [0],\n",
              "       [1],\n",
              "       [0],\n",
              "       [0],\n",
              "       [1],\n",
              "       [1],\n",
              "       [0],\n",
              "       [0],\n",
              "       [0],\n",
              "       [0],\n",
              "       [1],\n",
              "       [1],\n",
              "       [1],\n",
              "       [0],\n",
              "       [1],\n",
              "       [1],\n",
              "       [1],\n",
              "       [0],\n",
              "       [0],\n",
              "       [1],\n",
              "       [0],\n",
              "       [0],\n",
              "       [0],\n",
              "       [0],\n",
              "       [0],\n",
              "       [1],\n",
              "       [0],\n",
              "       [1],\n",
              "       [0],\n",
              "       [0],\n",
              "       [0],\n",
              "       [0],\n",
              "       [0],\n",
              "       [0],\n",
              "       [0],\n",
              "       [0],\n",
              "       [1],\n",
              "       [1],\n",
              "       [1],\n",
              "       [1],\n",
              "       [0],\n",
              "       [0],\n",
              "       [0],\n",
              "       [1],\n",
              "       [1],\n",
              "       [0],\n",
              "       [1],\n",
              "       [0],\n",
              "       [0]])"
            ]
          },
          "metadata": {
            "tags": []
          },
          "execution_count": 60
        }
      ]
    },
    {
      "metadata": {
        "id": "csfyPJ0p9z70",
        "colab_type": "text"
      },
      "cell_type": "markdown",
      "source": [
        "Reshape the test data"
      ]
    },
    {
      "metadata": {
        "id": "Gq18xdNpCLQZ",
        "colab_type": "code",
        "colab": {}
      },
      "cell_type": "code",
      "source": [
        "teamdatatest.shape\n",
        "winstest.shape\n",
        "teamdatatest = teamdatatest.reshape(488,36,1)\n",
        "winstest = winstest.reshape(488,1)\n",
        "\n",
        "#teamdatatest[0]\n",
        "#winstest"
      ],
      "execution_count": 0,
      "outputs": []
    },
    {
      "metadata": {
        "id": "vzVtHjDVzCXk",
        "colab_type": "text"
      },
      "cell_type": "markdown",
      "source": [
        "Beginning of Model"
      ]
    },
    {
      "metadata": {
        "id": "TWKpLdjUy9If",
        "colab_type": "code",
        "colab": {}
      },
      "cell_type": "code",
      "source": [
        "model = Sequential()"
      ],
      "execution_count": 0,
      "outputs": []
    },
    {
      "metadata": {
        "id": "v1jcAZT_zMQo",
        "colab_type": "code",
        "colab": {}
      },
      "cell_type": "code",
      "source": [
        "model.add(Flatten(input_shape=(36,1)))\n",
        "model.add(Dense(units=72, activation='relu', name='Hidden1', kernel_constraint=maxnorm(3)))\n",
        "model.add(Dropout(0.2))\n",
        "model.add(Dense(units=80, activation='relu', name='Hidden1.2', kernel_constraint=maxnorm(3)))\n",
        "model.add(Dropout(0.2))\n"
      ],
      "execution_count": 0,
      "outputs": []
    },
    {
      "metadata": {
        "id": "GBWalYNazzM1",
        "colab_type": "code",
        "colab": {}
      },
      "cell_type": "code",
      "source": [
        "model.add(Dense(units= 154, activation='relu', name=\"Hidden2\", kernel_constraint=maxnorm(3)))\n",
        "model.add(Dropout(0.2))\n",
        "model.add(Dense(units = 52, activation='relu', name='Hidden2.2', kernel_constraint=maxnorm(3)))\n",
        "model.add(Dropout(0.2))"
      ],
      "execution_count": 0,
      "outputs": []
    },
    {
      "metadata": {
        "id": "uyiuonJF0Bl7",
        "colab_type": "code",
        "colab": {
          "base_uri": "https://localhost:8080/",
          "height": 497
        },
        "outputId": "00f78d42-4de3-46ae-c2c2-c013dff9764b"
      },
      "cell_type": "code",
      "source": [
        "model.add(Dense(units=1, activation='sigmoid', name=\"Output\"))\n",
        "model.summary()"
      ],
      "execution_count": 28,
      "outputs": [
        {
          "output_type": "stream",
          "text": [
            "_________________________________________________________________\n",
            "Layer (type)                 Output Shape              Param #   \n",
            "=================================================================\n",
            "flatten_1 (Flatten)          (None, 36)                0         \n",
            "_________________________________________________________________\n",
            "Hidden1 (Dense)              (None, 72)                2664      \n",
            "_________________________________________________________________\n",
            "dropout_1 (Dropout)          (None, 72)                0         \n",
            "_________________________________________________________________\n",
            "Hidden1.2 (Dense)            (None, 80)                5840      \n",
            "_________________________________________________________________\n",
            "dropout_2 (Dropout)          (None, 80)                0         \n",
            "_________________________________________________________________\n",
            "Hidden2 (Dense)              (None, 154)               12474     \n",
            "_________________________________________________________________\n",
            "dropout_3 (Dropout)          (None, 154)               0         \n",
            "_________________________________________________________________\n",
            "Hidden2.2 (Dense)            (None, 52)                8060      \n",
            "_________________________________________________________________\n",
            "dropout_4 (Dropout)          (None, 52)                0         \n",
            "_________________________________________________________________\n",
            "Output (Dense)               (None, 1)                 53        \n",
            "=================================================================\n",
            "Total params: 29,091\n",
            "Trainable params: 29,091\n",
            "Non-trainable params: 0\n",
            "_________________________________________________________________\n"
          ],
          "name": "stdout"
        }
      ]
    },
    {
      "metadata": {
        "id": "eGJzry-01a23",
        "colab_type": "code",
        "colab": {}
      },
      "cell_type": "code",
      "source": [
        "rmsprop = keras.optimizers.RMSprop(lr=0.0003, rho=0.9, epsilon=None, decay=0.0)\n",
        "model.compile(optimizer= 'Adam',\n",
        "             loss= 'binary_crossentropy',\n",
        "             metrics= ['accuracy'])"
      ],
      "execution_count": 0,
      "outputs": []
    },
    {
      "metadata": {
        "id": "unclgbp194L7",
        "colab_type": "text"
      },
      "cell_type": "markdown",
      "source": [
        "Run the model with the training data and se how it performs on the training data and test data."
      ]
    },
    {
      "metadata": {
        "id": "7tQgLw2u5Tfj",
        "colab_type": "code",
        "colab": {
          "base_uri": "https://localhost:8080/",
          "height": 8944
        },
        "outputId": "5db6b574-1e65-47a2-a74a-178883afa8a5"
      },
      "cell_type": "code",
      "source": [
        "#history = model.fit(teamdata, wins, epochs=50, batch_size=50)\n",
        "history = model.fit(teamdata, wins, validation_data=(teamdatatest, winstest), epochs=250, batch_size=20)"
      ],
      "execution_count": 30,
      "outputs": [
        {
          "output_type": "stream",
          "text": [
            "Train on 987 samples, validate on 488 samples\n",
            "Epoch 1/250\n",
            "987/987 [==============================] - 0s 443us/step - loss: 1.6573 - acc: 0.5441 - val_loss: 0.6904 - val_acc: 0.5451\n",
            "Epoch 2/250\n",
            "987/987 [==============================] - 0s 152us/step - loss: 0.8048 - acc: 0.5147 - val_loss: 0.6841 - val_acc: 0.5758\n",
            "Epoch 3/250\n",
            "987/987 [==============================] - 0s 135us/step - loss: 0.7202 - acc: 0.5481 - val_loss: 0.6821 - val_acc: 0.5738\n",
            "Epoch 4/250\n",
            "987/987 [==============================] - 0s 138us/step - loss: 0.6987 - acc: 0.5532 - val_loss: 0.6857 - val_acc: 0.5717\n",
            "Epoch 5/250\n",
            "987/987 [==============================] - 0s 139us/step - loss: 0.6955 - acc: 0.5745 - val_loss: 0.6803 - val_acc: 0.5738\n",
            "Epoch 6/250\n",
            "987/987 [==============================] - 0s 147us/step - loss: 0.6966 - acc: 0.5522 - val_loss: 0.6828 - val_acc: 0.5738\n",
            "Epoch 7/250\n",
            "987/987 [==============================] - 0s 145us/step - loss: 0.6880 - acc: 0.5684 - val_loss: 0.6843 - val_acc: 0.5738\n",
            "Epoch 8/250\n",
            "987/987 [==============================] - 0s 144us/step - loss: 0.6912 - acc: 0.5613 - val_loss: 0.6852 - val_acc: 0.5738\n",
            "Epoch 9/250\n",
            "987/987 [==============================] - 0s 148us/step - loss: 0.6819 - acc: 0.5724 - val_loss: 0.6825 - val_acc: 0.5738\n",
            "Epoch 10/250\n",
            "987/987 [==============================] - 0s 141us/step - loss: 0.6888 - acc: 0.5694 - val_loss: 0.6840 - val_acc: 0.5738\n",
            "Epoch 11/250\n",
            "987/987 [==============================] - 0s 127us/step - loss: 0.6812 - acc: 0.5816 - val_loss: 0.6835 - val_acc: 0.5738\n",
            "Epoch 12/250\n",
            "987/987 [==============================] - 0s 124us/step - loss: 0.6864 - acc: 0.5704 - val_loss: 0.6829 - val_acc: 0.5738\n",
            "Epoch 13/250\n",
            "987/987 [==============================] - 0s 129us/step - loss: 0.6786 - acc: 0.5765 - val_loss: 0.6818 - val_acc: 0.5738\n",
            "Epoch 14/250\n",
            "987/987 [==============================] - 0s 116us/step - loss: 0.6808 - acc: 0.5836 - val_loss: 0.6826 - val_acc: 0.5738\n",
            "Epoch 15/250\n",
            "987/987 [==============================] - 0s 128us/step - loss: 0.6853 - acc: 0.5795 - val_loss: 0.6852 - val_acc: 0.5738\n",
            "Epoch 16/250\n",
            "987/987 [==============================] - 0s 149us/step - loss: 0.6837 - acc: 0.5785 - val_loss: 0.6813 - val_acc: 0.5738\n",
            "Epoch 17/250\n",
            "987/987 [==============================] - 0s 152us/step - loss: 0.6851 - acc: 0.5704 - val_loss: 0.6801 - val_acc: 0.5738\n",
            "Epoch 18/250\n",
            "987/987 [==============================] - 0s 171us/step - loss: 0.6798 - acc: 0.5795 - val_loss: 0.6826 - val_acc: 0.5738\n",
            "Epoch 19/250\n",
            " 20/987 [..............................] - ETA: 0s - loss: 0.6597 - acc: 0.6500"
          ],
          "name": "stdout"
        },
        {
          "output_type": "stream",
          "text": [
            "987/987 [==============================] - 0s 150us/step - loss: 0.6824 - acc: 0.5805 - val_loss: 0.6813 - val_acc: 0.5738\n",
            "Epoch 20/250\n",
            "987/987 [==============================] - 0s 149us/step - loss: 0.6849 - acc: 0.5755 - val_loss: 0.6808 - val_acc: 0.5738\n",
            "Epoch 21/250\n",
            "987/987 [==============================] - 0s 147us/step - loss: 0.6789 - acc: 0.5765 - val_loss: 0.6782 - val_acc: 0.5738\n",
            "Epoch 22/250\n",
            "987/987 [==============================] - 0s 148us/step - loss: 0.6760 - acc: 0.5775 - val_loss: 0.6772 - val_acc: 0.5738\n",
            "Epoch 23/250\n",
            "987/987 [==============================] - 0s 167us/step - loss: 0.6812 - acc: 0.5805 - val_loss: 0.6821 - val_acc: 0.5738\n",
            "Epoch 24/250\n",
            "987/987 [==============================] - 0s 158us/step - loss: 0.6797 - acc: 0.5856 - val_loss: 0.6814 - val_acc: 0.5738\n",
            "Epoch 25/250\n",
            "987/987 [==============================] - 0s 148us/step - loss: 0.6776 - acc: 0.5805 - val_loss: 0.6763 - val_acc: 0.5738\n",
            "Epoch 26/250\n",
            "987/987 [==============================] - 0s 144us/step - loss: 0.6832 - acc: 0.5694 - val_loss: 0.6789 - val_acc: 0.5738\n",
            "Epoch 27/250\n",
            "987/987 [==============================] - 0s 145us/step - loss: 0.6818 - acc: 0.5724 - val_loss: 0.6745 - val_acc: 0.5738\n",
            "Epoch 28/250\n",
            "987/987 [==============================] - 0s 150us/step - loss: 0.6807 - acc: 0.5795 - val_loss: 0.6754 - val_acc: 0.5738\n",
            "Epoch 29/250\n",
            "987/987 [==============================] - 0s 155us/step - loss: 0.6841 - acc: 0.5775 - val_loss: 0.6772 - val_acc: 0.5738\n",
            "Epoch 30/250\n",
            "987/987 [==============================] - 0s 152us/step - loss: 0.6756 - acc: 0.5805 - val_loss: 0.6747 - val_acc: 0.5738\n",
            "Epoch 31/250\n",
            "987/987 [==============================] - 0s 162us/step - loss: 0.6817 - acc: 0.5887 - val_loss: 0.6786 - val_acc: 0.5738\n",
            "Epoch 32/250\n",
            "987/987 [==============================] - 0s 153us/step - loss: 0.6742 - acc: 0.5775 - val_loss: 0.6747 - val_acc: 0.5738\n",
            "Epoch 33/250\n",
            "987/987 [==============================] - 0s 154us/step - loss: 0.6789 - acc: 0.5816 - val_loss: 0.6764 - val_acc: 0.5738\n",
            "Epoch 34/250\n",
            "987/987 [==============================] - 0s 141us/step - loss: 0.6753 - acc: 0.5795 - val_loss: 0.6731 - val_acc: 0.5738\n",
            "Epoch 35/250\n",
            "987/987 [==============================] - 0s 154us/step - loss: 0.6736 - acc: 0.5805 - val_loss: 0.6817 - val_acc: 0.5738\n",
            "Epoch 36/250\n",
            "987/987 [==============================] - 0s 156us/step - loss: 0.6727 - acc: 0.5816 - val_loss: 0.6735 - val_acc: 0.5738\n"
          ],
          "name": "stdout"
        },
        {
          "output_type": "stream",
          "text": [
            "Epoch 37/250\n",
            "987/987 [==============================] - 0s 147us/step - loss: 0.6757 - acc: 0.5785 - val_loss: 0.6791 - val_acc: 0.5738\n",
            "Epoch 38/250\n",
            "987/987 [==============================] - 0s 155us/step - loss: 0.6760 - acc: 0.5805 - val_loss: 0.6771 - val_acc: 0.5738\n",
            "Epoch 39/250\n",
            "987/987 [==============================] - 0s 168us/step - loss: 0.6733 - acc: 0.5805 - val_loss: 0.6724 - val_acc: 0.5738\n",
            "Epoch 40/250\n",
            "987/987 [==============================] - 0s 148us/step - loss: 0.6758 - acc: 0.5805 - val_loss: 0.6751 - val_acc: 0.5738\n",
            "Epoch 41/250\n",
            "987/987 [==============================] - 0s 152us/step - loss: 0.6743 - acc: 0.5775 - val_loss: 0.6742 - val_acc: 0.5738\n",
            "Epoch 42/250\n",
            "987/987 [==============================] - 0s 148us/step - loss: 0.6720 - acc: 0.5836 - val_loss: 0.6723 - val_acc: 0.5738\n",
            "Epoch 43/250\n",
            "987/987 [==============================] - 0s 146us/step - loss: 0.6758 - acc: 0.5805 - val_loss: 0.6823 - val_acc: 0.5738\n",
            "Epoch 44/250\n",
            "987/987 [==============================] - 0s 142us/step - loss: 0.6776 - acc: 0.5805 - val_loss: 0.6719 - val_acc: 0.5738\n",
            "Epoch 45/250\n",
            "987/987 [==============================] - 0s 146us/step - loss: 0.6742 - acc: 0.5785 - val_loss: 0.6700 - val_acc: 0.5738\n",
            "Epoch 46/250\n",
            "987/987 [==============================] - 0s 157us/step - loss: 0.6749 - acc: 0.5826 - val_loss: 0.6690 - val_acc: 0.5738\n",
            "Epoch 47/250\n",
            "987/987 [==============================] - 0s 152us/step - loss: 0.6763 - acc: 0.5816 - val_loss: 0.6702 - val_acc: 0.5738\n",
            "Epoch 48/250\n",
            "987/987 [==============================] - 0s 150us/step - loss: 0.6697 - acc: 0.5775 - val_loss: 0.6767 - val_acc: 0.5738\n",
            "Epoch 49/250\n",
            "987/987 [==============================] - 0s 150us/step - loss: 0.6741 - acc: 0.5795 - val_loss: 0.6726 - val_acc: 0.5738\n",
            "Epoch 50/250\n",
            "987/987 [==============================] - 0s 149us/step - loss: 0.6740 - acc: 0.5795 - val_loss: 0.6680 - val_acc: 0.5738\n",
            "Epoch 51/250\n",
            "987/987 [==============================] - 0s 150us/step - loss: 0.6668 - acc: 0.5805 - val_loss: 0.6677 - val_acc: 0.5738\n",
            "Epoch 52/250\n",
            "987/987 [==============================] - 0s 154us/step - loss: 0.6764 - acc: 0.5897 - val_loss: 0.6700 - val_acc: 0.5922\n",
            "Epoch 53/250\n",
            "987/987 [==============================] - 0s 152us/step - loss: 0.6698 - acc: 0.5978 - val_loss: 0.6796 - val_acc: 0.5902\n",
            "Epoch 54/250\n",
            "987/987 [==============================] - 0s 151us/step - loss: 0.6757 - acc: 0.5704 - val_loss: 0.6686 - val_acc: 0.5758\n"
          ],
          "name": "stdout"
        },
        {
          "output_type": "stream",
          "text": [
            "Epoch 55/250\n",
            "987/987 [==============================] - 0s 155us/step - loss: 0.6743 - acc: 0.5795 - val_loss: 0.6729 - val_acc: 0.5943\n",
            "Epoch 56/250\n",
            "987/987 [==============================] - 0s 154us/step - loss: 0.6723 - acc: 0.5805 - val_loss: 0.6688 - val_acc: 0.5840\n",
            "Epoch 57/250\n",
            "987/987 [==============================] - 0s 148us/step - loss: 0.6657 - acc: 0.6039 - val_loss: 0.6688 - val_acc: 0.5943\n",
            "Epoch 58/250\n",
            "987/987 [==============================] - 0s 167us/step - loss: 0.6735 - acc: 0.5968 - val_loss: 0.6661 - val_acc: 0.6127\n",
            "Epoch 59/250\n",
            "987/987 [==============================] - 0s 152us/step - loss: 0.6733 - acc: 0.5968 - val_loss: 0.6811 - val_acc: 0.5697\n",
            "Epoch 60/250\n",
            "987/987 [==============================] - 0s 147us/step - loss: 0.6715 - acc: 0.5795 - val_loss: 0.6674 - val_acc: 0.5779\n",
            "Epoch 61/250\n",
            "987/987 [==============================] - 0s 160us/step - loss: 0.6705 - acc: 0.5836 - val_loss: 0.6678 - val_acc: 0.5963\n",
            "Epoch 62/250\n",
            "987/987 [==============================] - 0s 156us/step - loss: 0.6733 - acc: 0.5805 - val_loss: 0.6707 - val_acc: 0.5758\n",
            "Epoch 63/250\n",
            "987/987 [==============================] - 0s 150us/step - loss: 0.6702 - acc: 0.5947 - val_loss: 0.6697 - val_acc: 0.5922\n",
            "Epoch 64/250\n",
            "987/987 [==============================] - 0s 156us/step - loss: 0.6619 - acc: 0.6008 - val_loss: 0.6677 - val_acc: 0.5758\n",
            "Epoch 65/250\n",
            "987/987 [==============================] - 0s 155us/step - loss: 0.6646 - acc: 0.5816 - val_loss: 0.6682 - val_acc: 0.5738\n",
            "Epoch 66/250\n",
            "987/987 [==============================] - 0s 157us/step - loss: 0.6673 - acc: 0.5856 - val_loss: 0.6664 - val_acc: 0.5697\n",
            "Epoch 67/250\n",
            "987/987 [==============================] - 0s 159us/step - loss: 0.6763 - acc: 0.5836 - val_loss: 0.6701 - val_acc: 0.5738\n",
            "Epoch 68/250\n",
            "987/987 [==============================] - 0s 153us/step - loss: 0.6692 - acc: 0.5937 - val_loss: 0.6654 - val_acc: 0.6045\n",
            "Epoch 69/250\n",
            "987/987 [==============================] - 0s 147us/step - loss: 0.6645 - acc: 0.5998 - val_loss: 0.6665 - val_acc: 0.5902\n",
            "Epoch 70/250\n",
            "987/987 [==============================] - 0s 158us/step - loss: 0.6676 - acc: 0.6109 - val_loss: 0.6724 - val_acc: 0.5717\n",
            "Epoch 71/250\n",
            "987/987 [==============================] - 0s 147us/step - loss: 0.6683 - acc: 0.6109 - val_loss: 0.6663 - val_acc: 0.6004\n",
            "Epoch 72/250\n",
            "987/987 [==============================] - 0s 165us/step - loss: 0.6739 - acc: 0.5978 - val_loss: 0.6741 - val_acc: 0.5922\n",
            "Epoch 73/250\n",
            " 20/987 [..............................] - ETA: 0s - loss: 0.6598 - acc: 0.5000"
          ],
          "name": "stdout"
        },
        {
          "output_type": "stream",
          "text": [
            "987/987 [==============================] - 0s 152us/step - loss: 0.6702 - acc: 0.5876 - val_loss: 0.6731 - val_acc: 0.5738\n",
            "Epoch 74/250\n",
            "987/987 [==============================] - 0s 149us/step - loss: 0.6706 - acc: 0.5887 - val_loss: 0.6674 - val_acc: 0.5697\n",
            "Epoch 75/250\n",
            "987/987 [==============================] - 0s 151us/step - loss: 0.6691 - acc: 0.5978 - val_loss: 0.6646 - val_acc: 0.6066\n",
            "Epoch 76/250\n",
            "987/987 [==============================] - 0s 165us/step - loss: 0.6690 - acc: 0.5968 - val_loss: 0.6673 - val_acc: 0.5717\n",
            "Epoch 77/250\n",
            "987/987 [==============================] - 0s 148us/step - loss: 0.6578 - acc: 0.5897 - val_loss: 0.6642 - val_acc: 0.6066\n",
            "Epoch 78/250\n",
            "987/987 [==============================] - 0s 162us/step - loss: 0.6703 - acc: 0.5887 - val_loss: 0.6661 - val_acc: 0.5881\n",
            "Epoch 79/250\n",
            "987/987 [==============================] - 0s 156us/step - loss: 0.6696 - acc: 0.5876 - val_loss: 0.6679 - val_acc: 0.5840\n",
            "Epoch 80/250\n",
            "987/987 [==============================] - 0s 156us/step - loss: 0.6724 - acc: 0.5968 - val_loss: 0.6699 - val_acc: 0.5984\n",
            "Epoch 81/250\n",
            "987/987 [==============================] - 0s 147us/step - loss: 0.6685 - acc: 0.5998 - val_loss: 0.6642 - val_acc: 0.6025\n",
            "Epoch 82/250\n",
            "987/987 [==============================] - 0s 157us/step - loss: 0.6676 - acc: 0.5947 - val_loss: 0.6659 - val_acc: 0.6045\n",
            "Epoch 83/250\n",
            "987/987 [==============================] - 0s 158us/step - loss: 0.6684 - acc: 0.5937 - val_loss: 0.6671 - val_acc: 0.6107\n",
            "Epoch 84/250\n",
            "987/987 [==============================] - 0s 150us/step - loss: 0.6703 - acc: 0.5978 - val_loss: 0.6674 - val_acc: 0.5881\n",
            "Epoch 85/250\n",
            "987/987 [==============================] - 0s 152us/step - loss: 0.6679 - acc: 0.5978 - val_loss: 0.6645 - val_acc: 0.6127\n",
            "Epoch 86/250\n",
            "987/987 [==============================] - 0s 153us/step - loss: 0.6645 - acc: 0.6069 - val_loss: 0.6617 - val_acc: 0.6066\n",
            "Epoch 87/250\n",
            "987/987 [==============================] - 0s 154us/step - loss: 0.6610 - acc: 0.6039 - val_loss: 0.6652 - val_acc: 0.5963\n",
            "Epoch 88/250\n",
            "987/987 [==============================] - 0s 150us/step - loss: 0.6628 - acc: 0.5957 - val_loss: 0.6683 - val_acc: 0.5799\n",
            "Epoch 89/250\n",
            "987/987 [==============================] - 0s 150us/step - loss: 0.6710 - acc: 0.5978 - val_loss: 0.6713 - val_acc: 0.5820\n",
            "Epoch 90/250\n",
            "880/987 [=========================>....] - ETA: 0s - loss: 0.6667 - acc: 0.6011"
          ],
          "name": "stdout"
        },
        {
          "output_type": "stream",
          "text": [
            "987/987 [==============================] - 0s 162us/step - loss: 0.6651 - acc: 0.6039 - val_loss: 0.6611 - val_acc: 0.6086\n",
            "Epoch 91/250\n",
            "987/987 [==============================] - 0s 156us/step - loss: 0.6689 - acc: 0.6028 - val_loss: 0.6689 - val_acc: 0.6066\n",
            "Epoch 92/250\n",
            "987/987 [==============================] - 0s 151us/step - loss: 0.6685 - acc: 0.6130 - val_loss: 0.6669 - val_acc: 0.5902\n",
            "Epoch 93/250\n",
            "987/987 [==============================] - 0s 150us/step - loss: 0.6574 - acc: 0.6018 - val_loss: 0.6602 - val_acc: 0.5779\n",
            "Epoch 94/250\n",
            "987/987 [==============================] - 0s 153us/step - loss: 0.6644 - acc: 0.6069 - val_loss: 0.6662 - val_acc: 0.5799\n",
            "Epoch 95/250\n",
            "987/987 [==============================] - 0s 154us/step - loss: 0.6653 - acc: 0.6018 - val_loss: 0.6652 - val_acc: 0.6107\n",
            "Epoch 96/250\n",
            "987/987 [==============================] - 0s 151us/step - loss: 0.6657 - acc: 0.6008 - val_loss: 0.6664 - val_acc: 0.5984\n",
            "Epoch 97/250\n",
            "987/987 [==============================] - 0s 170us/step - loss: 0.6655 - acc: 0.6039 - val_loss: 0.6626 - val_acc: 0.6086\n",
            "Epoch 98/250\n",
            "987/987 [==============================] - 0s 147us/step - loss: 0.6633 - acc: 0.6028 - val_loss: 0.6689 - val_acc: 0.5861\n",
            "Epoch 99/250\n",
            "987/987 [==============================] - 0s 150us/step - loss: 0.6663 - acc: 0.5998 - val_loss: 0.6623 - val_acc: 0.5984\n",
            "Epoch 100/250\n",
            "987/987 [==============================] - 0s 155us/step - loss: 0.6662 - acc: 0.6018 - val_loss: 0.6756 - val_acc: 0.5697\n",
            "Epoch 101/250\n",
            "987/987 [==============================] - 0s 155us/step - loss: 0.6748 - acc: 0.5856 - val_loss: 0.6697 - val_acc: 0.5840\n",
            "Epoch 102/250\n",
            "987/987 [==============================] - 0s 153us/step - loss: 0.6638 - acc: 0.6160 - val_loss: 0.6672 - val_acc: 0.5758\n",
            "Epoch 103/250\n",
            "987/987 [==============================] - 0s 150us/step - loss: 0.6624 - acc: 0.6140 - val_loss: 0.6719 - val_acc: 0.5738\n",
            "Epoch 104/250\n",
            "987/987 [==============================] - 0s 153us/step - loss: 0.6609 - acc: 0.5998 - val_loss: 0.6624 - val_acc: 0.6168\n",
            "Epoch 105/250\n",
            "987/987 [==============================] - 0s 156us/step - loss: 0.6580 - acc: 0.6201 - val_loss: 0.6692 - val_acc: 0.6168\n",
            "Epoch 106/250\n",
            "987/987 [==============================] - 0s 147us/step - loss: 0.6630 - acc: 0.6008 - val_loss: 0.6636 - val_acc: 0.6004\n",
            "Epoch 107/250\n",
            "400/987 [===========>..................] - ETA: 0s - loss: 0.6680 - acc: 0.6050"
          ],
          "name": "stdout"
        },
        {
          "output_type": "stream",
          "text": [
            "987/987 [==============================] - 0s 156us/step - loss: 0.6637 - acc: 0.6069 - val_loss: 0.6617 - val_acc: 0.5984\n",
            "Epoch 108/250\n",
            "987/987 [==============================] - 0s 152us/step - loss: 0.6524 - acc: 0.6180 - val_loss: 0.6591 - val_acc: 0.6127\n",
            "Epoch 109/250\n",
            "987/987 [==============================] - 0s 159us/step - loss: 0.6603 - acc: 0.6120 - val_loss: 0.6644 - val_acc: 0.6127\n",
            "Epoch 110/250\n",
            "987/987 [==============================] - 0s 154us/step - loss: 0.6674 - acc: 0.6069 - val_loss: 0.6588 - val_acc: 0.5922\n",
            "Epoch 111/250\n",
            "987/987 [==============================] - 0s 153us/step - loss: 0.6651 - acc: 0.6049 - val_loss: 0.6625 - val_acc: 0.6250\n",
            "Epoch 112/250\n",
            "987/987 [==============================] - 0s 158us/step - loss: 0.6667 - acc: 0.6028 - val_loss: 0.6660 - val_acc: 0.6066\n",
            "Epoch 113/250\n",
            "987/987 [==============================] - 0s 157us/step - loss: 0.6649 - acc: 0.6140 - val_loss: 0.6655 - val_acc: 0.6086\n",
            "Epoch 114/250\n",
            "987/987 [==============================] - 0s 148us/step - loss: 0.6672 - acc: 0.5957 - val_loss: 0.6659 - val_acc: 0.5922\n",
            "Epoch 115/250\n",
            "987/987 [==============================] - 0s 156us/step - loss: 0.6644 - acc: 0.6008 - val_loss: 0.6643 - val_acc: 0.6045\n",
            "Epoch 116/250\n",
            "987/987 [==============================] - 0s 153us/step - loss: 0.6566 - acc: 0.6120 - val_loss: 0.6591 - val_acc: 0.6066\n",
            "Epoch 117/250\n",
            "987/987 [==============================] - 0s 156us/step - loss: 0.6654 - acc: 0.5947 - val_loss: 0.6605 - val_acc: 0.6045\n",
            "Epoch 118/250\n",
            "987/987 [==============================] - 0s 151us/step - loss: 0.6571 - acc: 0.6120 - val_loss: 0.6648 - val_acc: 0.6004\n",
            "Epoch 119/250\n",
            "987/987 [==============================] - 0s 163us/step - loss: 0.6651 - acc: 0.6140 - val_loss: 0.6613 - val_acc: 0.5943\n",
            "Epoch 120/250\n",
            "987/987 [==============================] - 0s 150us/step - loss: 0.6592 - acc: 0.6130 - val_loss: 0.6577 - val_acc: 0.6066\n",
            "Epoch 121/250\n",
            "987/987 [==============================] - 0s 147us/step - loss: 0.6587 - acc: 0.6069 - val_loss: 0.6598 - val_acc: 0.6045\n",
            "Epoch 122/250\n",
            "987/987 [==============================] - 0s 151us/step - loss: 0.6640 - acc: 0.6160 - val_loss: 0.6606 - val_acc: 0.6230\n",
            "Epoch 123/250\n",
            "987/987 [==============================] - 0s 155us/step - loss: 0.6553 - acc: 0.6069 - val_loss: 0.6618 - val_acc: 0.6148\n",
            "Epoch 124/250\n",
            "987/987 [==============================] - 0s 165us/step - loss: 0.6585 - acc: 0.6150 - val_loss: 0.6638 - val_acc: 0.6045\n",
            "Epoch 125/250\n",
            " 20/987 [..............................] - ETA: 0s - loss: 0.6295 - acc: 0.6000"
          ],
          "name": "stdout"
        },
        {
          "output_type": "stream",
          "text": [
            "987/987 [==============================] - 0s 155us/step - loss: 0.6648 - acc: 0.6190 - val_loss: 0.6682 - val_acc: 0.5943\n",
            "Epoch 126/250\n",
            "987/987 [==============================] - 0s 151us/step - loss: 0.6612 - acc: 0.6190 - val_loss: 0.6588 - val_acc: 0.6230\n",
            "Epoch 127/250\n",
            "987/987 [==============================] - 0s 153us/step - loss: 0.6591 - acc: 0.6079 - val_loss: 0.6583 - val_acc: 0.6148\n",
            "Epoch 128/250\n",
            "987/987 [==============================] - 0s 157us/step - loss: 0.6618 - acc: 0.6069 - val_loss: 0.6584 - val_acc: 0.6189\n",
            "Epoch 129/250\n",
            "987/987 [==============================] - 0s 154us/step - loss: 0.6587 - acc: 0.5947 - val_loss: 0.6643 - val_acc: 0.5820\n",
            "Epoch 130/250\n",
            "987/987 [==============================] - 0s 155us/step - loss: 0.6586 - acc: 0.6201 - val_loss: 0.6588 - val_acc: 0.6025\n",
            "Epoch 131/250\n",
            "987/987 [==============================] - 0s 152us/step - loss: 0.6588 - acc: 0.6099 - val_loss: 0.6630 - val_acc: 0.5963\n",
            "Epoch 132/250\n",
            "987/987 [==============================] - 0s 144us/step - loss: 0.6563 - acc: 0.6170 - val_loss: 0.6623 - val_acc: 0.6004\n",
            "Epoch 133/250\n",
            "987/987 [==============================] - 0s 153us/step - loss: 0.6660 - acc: 0.5988 - val_loss: 0.6673 - val_acc: 0.6107\n",
            "Epoch 134/250\n",
            "987/987 [==============================] - 0s 153us/step - loss: 0.6605 - acc: 0.6079 - val_loss: 0.6603 - val_acc: 0.5984\n",
            "Epoch 135/250\n",
            "987/987 [==============================] - 0s 159us/step - loss: 0.6588 - acc: 0.6211 - val_loss: 0.6600 - val_acc: 0.6127\n",
            "Epoch 136/250\n",
            "987/987 [==============================] - 0s 157us/step - loss: 0.6570 - acc: 0.6251 - val_loss: 0.6616 - val_acc: 0.6107\n",
            "Epoch 137/250\n",
            "987/987 [==============================] - 0s 153us/step - loss: 0.6562 - acc: 0.6211 - val_loss: 0.6662 - val_acc: 0.6025\n",
            "Epoch 138/250\n",
            "987/987 [==============================] - 0s 155us/step - loss: 0.6607 - acc: 0.6018 - val_loss: 0.6617 - val_acc: 0.6127\n",
            "Epoch 139/250\n",
            "987/987 [==============================] - 0s 147us/step - loss: 0.6537 - acc: 0.6079 - val_loss: 0.6624 - val_acc: 0.6086\n",
            "Epoch 140/250\n",
            "987/987 [==============================] - 0s 157us/step - loss: 0.6610 - acc: 0.5917 - val_loss: 0.6656 - val_acc: 0.6127\n",
            "Epoch 141/250\n",
            "987/987 [==============================] - 0s 153us/step - loss: 0.6576 - acc: 0.6079 - val_loss: 0.6612 - val_acc: 0.6107\n",
            "Epoch 142/250\n",
            "987/987 [==============================] - 0s 151us/step - loss: 0.6624 - acc: 0.6120 - val_loss: 0.6607 - val_acc: 0.6107\n",
            "Epoch 143/250\n",
            " 20/987 [..............................] - ETA: 0s - loss: 0.6063 - acc: 0.5500"
          ],
          "name": "stdout"
        },
        {
          "output_type": "stream",
          "text": [
            "987/987 [==============================] - 0s 158us/step - loss: 0.6561 - acc: 0.6039 - val_loss: 0.6613 - val_acc: 0.6148\n",
            "Epoch 144/250\n",
            "987/987 [==============================] - 0s 155us/step - loss: 0.6608 - acc: 0.6028 - val_loss: 0.6643 - val_acc: 0.5902\n",
            "Epoch 145/250\n",
            "987/987 [==============================] - 0s 156us/step - loss: 0.6543 - acc: 0.6180 - val_loss: 0.6596 - val_acc: 0.6148\n",
            "Epoch 146/250\n",
            "987/987 [==============================] - 0s 152us/step - loss: 0.6659 - acc: 0.5927 - val_loss: 0.6646 - val_acc: 0.6107\n",
            "Epoch 147/250\n",
            "987/987 [==============================] - 0s 153us/step - loss: 0.6551 - acc: 0.6109 - val_loss: 0.6614 - val_acc: 0.6025\n",
            "Epoch 148/250\n",
            "987/987 [==============================] - 0s 151us/step - loss: 0.6560 - acc: 0.6150 - val_loss: 0.6637 - val_acc: 0.6127\n",
            "Epoch 149/250\n",
            "987/987 [==============================] - 0s 149us/step - loss: 0.6573 - acc: 0.6079 - val_loss: 0.6657 - val_acc: 0.6066\n",
            "Epoch 150/250\n",
            "987/987 [==============================] - 0s 150us/step - loss: 0.6491 - acc: 0.6322 - val_loss: 0.6611 - val_acc: 0.6004\n",
            "Epoch 151/250\n",
            "987/987 [==============================] - 0s 159us/step - loss: 0.6580 - acc: 0.6211 - val_loss: 0.6658 - val_acc: 0.6045\n",
            "Epoch 152/250\n",
            "987/987 [==============================] - 0s 153us/step - loss: 0.6537 - acc: 0.6231 - val_loss: 0.6628 - val_acc: 0.6086\n",
            "Epoch 153/250\n",
            "987/987 [==============================] - 0s 155us/step - loss: 0.6577 - acc: 0.6018 - val_loss: 0.6605 - val_acc: 0.6148\n",
            "Epoch 154/250\n",
            "987/987 [==============================] - 0s 152us/step - loss: 0.6540 - acc: 0.6150 - val_loss: 0.6678 - val_acc: 0.5902\n",
            "Epoch 155/250\n",
            "987/987 [==============================] - 0s 160us/step - loss: 0.6573 - acc: 0.6261 - val_loss: 0.6676 - val_acc: 0.6025\n",
            "Epoch 156/250\n",
            "987/987 [==============================] - 0s 155us/step - loss: 0.6531 - acc: 0.6120 - val_loss: 0.6652 - val_acc: 0.6045\n",
            "Epoch 157/250\n",
            "987/987 [==============================] - 0s 157us/step - loss: 0.6544 - acc: 0.6190 - val_loss: 0.6656 - val_acc: 0.6066\n",
            "Epoch 158/250\n",
            "987/987 [==============================] - 0s 155us/step - loss: 0.6628 - acc: 0.6008 - val_loss: 0.6735 - val_acc: 0.5902\n",
            "Epoch 159/250\n",
            "987/987 [==============================] - 0s 156us/step - loss: 0.6544 - acc: 0.6140 - val_loss: 0.6645 - val_acc: 0.6086\n",
            "Epoch 160/250\n",
            "987/987 [==============================] - 0s 154us/step - loss: 0.6506 - acc: 0.6272 - val_loss: 0.6656 - val_acc: 0.6107\n",
            "Epoch 161/250\n",
            "880/987 [=========================>....] - ETA: 0s - loss: 0.6521 - acc: 0.6114"
          ],
          "name": "stdout"
        },
        {
          "output_type": "stream",
          "text": [
            "\b\b\b\b\b\b\b\b\b\b\b\b\b\b\b\b\b\b\b\b\b\b\b\b\b\b\b\b\b\b\b\b\b\b\b\b\b\b\b\b\b\b\b\b\b\b\b\b\b\b\b\b\b\b\b\b\b\b\b\b\b\b\b\b\b\b\b\b\b\b\b\b\b\b\b\b\b\b\b\r987/987 [==============================] - 0s 152us/step - loss: 0.6527 - acc: 0.6089 - val_loss: 0.6599 - val_acc: 0.6066\n",
            "Epoch 162/250\n",
            "987/987 [==============================] - 0s 157us/step - loss: 0.6555 - acc: 0.6028 - val_loss: 0.6712 - val_acc: 0.6086\n",
            "Epoch 163/250\n",
            "987/987 [==============================] - 0s 146us/step - loss: 0.6618 - acc: 0.6069 - val_loss: 0.6654 - val_acc: 0.6107\n",
            "Epoch 164/250\n",
            "987/987 [==============================] - 0s 158us/step - loss: 0.6552 - acc: 0.6221 - val_loss: 0.6622 - val_acc: 0.6066\n",
            "Epoch 165/250\n",
            "987/987 [==============================] - 0s 155us/step - loss: 0.6447 - acc: 0.6261 - val_loss: 0.6714 - val_acc: 0.6086\n",
            "Epoch 166/250\n",
            "987/987 [==============================] - 0s 159us/step - loss: 0.6560 - acc: 0.5968 - val_loss: 0.6712 - val_acc: 0.6107\n",
            "Epoch 167/250\n",
            "987/987 [==============================] - 0s 156us/step - loss: 0.6543 - acc: 0.6160 - val_loss: 0.6722 - val_acc: 0.6107\n",
            "Epoch 168/250\n",
            "987/987 [==============================] - 0s 157us/step - loss: 0.6670 - acc: 0.6008 - val_loss: 0.6746 - val_acc: 0.5820\n",
            "Epoch 169/250\n",
            "987/987 [==============================] - 0s 159us/step - loss: 0.6658 - acc: 0.5957 - val_loss: 0.6692 - val_acc: 0.6045\n",
            "Epoch 170/250\n",
            "987/987 [==============================] - 0s 154us/step - loss: 0.6568 - acc: 0.6039 - val_loss: 0.6673 - val_acc: 0.6148\n",
            "Epoch 171/250\n",
            "987/987 [==============================] - 0s 154us/step - loss: 0.6512 - acc: 0.6140 - val_loss: 0.6722 - val_acc: 0.6004\n",
            "Epoch 172/250\n",
            "987/987 [==============================] - 0s 156us/step - loss: 0.6546 - acc: 0.6099 - val_loss: 0.6712 - val_acc: 0.6086\n",
            "Epoch 173/250\n",
            "987/987 [==============================] - 0s 150us/step - loss: 0.6495 - acc: 0.6201 - val_loss: 0.6791 - val_acc: 0.6107\n",
            "Epoch 174/250\n",
            "987/987 [==============================] - 0s 159us/step - loss: 0.6481 - acc: 0.6079 - val_loss: 0.6670 - val_acc: 0.6148\n",
            "Epoch 175/250\n",
            "987/987 [==============================] - 0s 166us/step - loss: 0.6506 - acc: 0.6221 - val_loss: 0.6808 - val_acc: 0.6127\n",
            "Epoch 176/250\n",
            "987/987 [==============================] - 0s 155us/step - loss: 0.6556 - acc: 0.6089 - val_loss: 0.6642 - val_acc: 0.6107\n",
            "Epoch 177/250\n",
            "987/987 [==============================] - 0s 154us/step - loss: 0.6537 - acc: 0.6069 - val_loss: 0.6674 - val_acc: 0.6004\n",
            "Epoch 178/250\n",
            "987/987 [==============================] - 0s 159us/step - loss: 0.6488 - acc: 0.6170 - val_loss: 0.6743 - val_acc: 0.5963\n"
          ],
          "name": "stdout"
        },
        {
          "output_type": "stream",
          "text": [
            "Epoch 179/250\n",
            "987/987 [==============================] - 0s 152us/step - loss: 0.6589 - acc: 0.6049 - val_loss: 0.6663 - val_acc: 0.5984\n",
            "Epoch 180/250\n",
            "987/987 [==============================] - 0s 155us/step - loss: 0.6538 - acc: 0.6079 - val_loss: 0.6713 - val_acc: 0.6127\n",
            "Epoch 181/250\n",
            "987/987 [==============================] - 0s 154us/step - loss: 0.6597 - acc: 0.6241 - val_loss: 0.6698 - val_acc: 0.5861\n",
            "Epoch 182/250\n",
            "987/987 [==============================] - 0s 156us/step - loss: 0.6584 - acc: 0.6049 - val_loss: 0.6723 - val_acc: 0.6045\n",
            "Epoch 183/250\n",
            "987/987 [==============================] - 0s 150us/step - loss: 0.6607 - acc: 0.6069 - val_loss: 0.6813 - val_acc: 0.6045\n",
            "Epoch 184/250\n",
            "987/987 [==============================] - 0s 153us/step - loss: 0.6552 - acc: 0.6130 - val_loss: 0.6581 - val_acc: 0.6148\n",
            "Epoch 185/250\n",
            "987/987 [==============================] - 0s 156us/step - loss: 0.6595 - acc: 0.6049 - val_loss: 0.6606 - val_acc: 0.6107\n",
            "Epoch 186/250\n",
            "987/987 [==============================] - 0s 159us/step - loss: 0.6543 - acc: 0.6190 - val_loss: 0.6683 - val_acc: 0.6004\n",
            "Epoch 187/250\n",
            "987/987 [==============================] - 0s 148us/step - loss: 0.6579 - acc: 0.6099 - val_loss: 0.6685 - val_acc: 0.6127\n",
            "Epoch 188/250\n",
            "987/987 [==============================] - 0s 150us/step - loss: 0.6475 - acc: 0.6201 - val_loss: 0.6809 - val_acc: 0.6004\n",
            "Epoch 189/250\n",
            "987/987 [==============================] - 0s 163us/step - loss: 0.6574 - acc: 0.6018 - val_loss: 0.6785 - val_acc: 0.5984\n",
            "Epoch 190/250\n",
            "987/987 [==============================] - 0s 160us/step - loss: 0.6560 - acc: 0.6170 - val_loss: 0.6633 - val_acc: 0.6230\n",
            "Epoch 191/250\n",
            "987/987 [==============================] - 0s 156us/step - loss: 0.6585 - acc: 0.6059 - val_loss: 0.6648 - val_acc: 0.6127\n",
            "Epoch 192/250\n",
            "987/987 [==============================] - 0s 156us/step - loss: 0.6556 - acc: 0.6221 - val_loss: 0.6675 - val_acc: 0.6066\n",
            "Epoch 193/250\n",
            "987/987 [==============================] - 0s 149us/step - loss: 0.6547 - acc: 0.6028 - val_loss: 0.6626 - val_acc: 0.6168\n",
            "Epoch 194/250\n",
            "987/987 [==============================] - 0s 160us/step - loss: 0.6513 - acc: 0.6069 - val_loss: 0.6717 - val_acc: 0.6004\n",
            "Epoch 195/250\n",
            "987/987 [==============================] - 0s 149us/step - loss: 0.6601 - acc: 0.6059 - val_loss: 0.6720 - val_acc: 0.6107\n",
            "Epoch 196/250\n",
            "987/987 [==============================] - 0s 157us/step - loss: 0.6569 - acc: 0.6251 - val_loss: 0.6697 - val_acc: 0.6107\n"
          ],
          "name": "stdout"
        },
        {
          "output_type": "stream",
          "text": [
            "Epoch 197/250\n",
            "987/987 [==============================] - 0s 151us/step - loss: 0.6655 - acc: 0.5968 - val_loss: 0.6812 - val_acc: 0.6086\n",
            "Epoch 198/250\n",
            "987/987 [==============================] - 0s 146us/step - loss: 0.6525 - acc: 0.6201 - val_loss: 0.6724 - val_acc: 0.6045\n",
            "Epoch 199/250\n",
            "987/987 [==============================] - 0s 161us/step - loss: 0.6588 - acc: 0.6221 - val_loss: 0.6747 - val_acc: 0.5861\n",
            "Epoch 200/250\n",
            "987/987 [==============================] - 0s 156us/step - loss: 0.6568 - acc: 0.6170 - val_loss: 0.6900 - val_acc: 0.6025\n",
            "Epoch 201/250\n",
            "987/987 [==============================] - 0s 160us/step - loss: 0.6628 - acc: 0.6079 - val_loss: 0.6651 - val_acc: 0.5943\n",
            "Epoch 202/250\n",
            "987/987 [==============================] - 0s 160us/step - loss: 0.6490 - acc: 0.6211 - val_loss: 0.6753 - val_acc: 0.6066\n",
            "Epoch 203/250\n",
            "987/987 [==============================] - 0s 153us/step - loss: 0.6528 - acc: 0.6008 - val_loss: 0.6653 - val_acc: 0.6025\n",
            "Epoch 204/250\n",
            "987/987 [==============================] - 0s 160us/step - loss: 0.6586 - acc: 0.6201 - val_loss: 0.6639 - val_acc: 0.6004\n",
            "Epoch 205/250\n",
            "987/987 [==============================] - 0s 157us/step - loss: 0.6566 - acc: 0.6190 - val_loss: 0.6688 - val_acc: 0.5984\n",
            "Epoch 206/250\n",
            "987/987 [==============================] - 0s 155us/step - loss: 0.6588 - acc: 0.6140 - val_loss: 0.6816 - val_acc: 0.5881\n",
            "Epoch 207/250\n",
            "987/987 [==============================] - 0s 154us/step - loss: 0.6576 - acc: 0.6079 - val_loss: 0.6694 - val_acc: 0.6127\n",
            "Epoch 208/250\n",
            "987/987 [==============================] - 0s 155us/step - loss: 0.6503 - acc: 0.6201 - val_loss: 0.6752 - val_acc: 0.6066\n",
            "Epoch 209/250\n",
            "987/987 [==============================] - 0s 161us/step - loss: 0.6515 - acc: 0.6180 - val_loss: 0.7173 - val_acc: 0.6086\n",
            "Epoch 210/250\n",
            "987/987 [==============================] - 0s 154us/step - loss: 0.6587 - acc: 0.6150 - val_loss: 0.6698 - val_acc: 0.6086\n",
            "Epoch 211/250\n",
            "987/987 [==============================] - 0s 157us/step - loss: 0.6508 - acc: 0.6120 - val_loss: 0.6925 - val_acc: 0.6107\n",
            "Epoch 212/250\n",
            "987/987 [==============================] - 0s 154us/step - loss: 0.6528 - acc: 0.6322 - val_loss: 0.6695 - val_acc: 0.6025\n",
            "Epoch 213/250\n",
            "987/987 [==============================] - 0s 160us/step - loss: 0.6544 - acc: 0.6272 - val_loss: 0.6645 - val_acc: 0.6107\n",
            "Epoch 214/250\n",
            "987/987 [==============================] - 0s 149us/step - loss: 0.6576 - acc: 0.6130 - val_loss: 0.6620 - val_acc: 0.6107\n",
            "Epoch 215/250\n",
            "380/987 [==========>...................] - ETA: 0s - loss: 0.6562 - acc: 0.6105"
          ],
          "name": "stdout"
        },
        {
          "output_type": "stream",
          "text": [
            "987/987 [==============================] - 0s 160us/step - loss: 0.6649 - acc: 0.6049 - val_loss: 0.6755 - val_acc: 0.5840\n",
            "Epoch 216/250\n",
            "987/987 [==============================] - 0s 155us/step - loss: 0.6556 - acc: 0.6160 - val_loss: 0.7114 - val_acc: 0.5881\n",
            "Epoch 217/250\n",
            "987/987 [==============================] - 0s 153us/step - loss: 0.6525 - acc: 0.6028 - val_loss: 0.6672 - val_acc: 0.6168\n",
            "Epoch 218/250\n",
            "987/987 [==============================] - 0s 153us/step - loss: 0.6611 - acc: 0.6049 - val_loss: 0.6858 - val_acc: 0.5984\n",
            "Epoch 219/250\n",
            "987/987 [==============================] - 0s 151us/step - loss: 0.6574 - acc: 0.6028 - val_loss: 0.6683 - val_acc: 0.6086\n",
            "Epoch 220/250\n",
            "987/987 [==============================] - 0s 158us/step - loss: 0.6549 - acc: 0.6059 - val_loss: 0.6786 - val_acc: 0.6148\n",
            "Epoch 221/250\n",
            "987/987 [==============================] - 0s 149us/step - loss: 0.6524 - acc: 0.6160 - val_loss: 0.6746 - val_acc: 0.6045\n",
            "Epoch 222/250\n",
            "987/987 [==============================] - 0s 151us/step - loss: 0.6525 - acc: 0.6211 - val_loss: 0.6617 - val_acc: 0.6045\n",
            "Epoch 223/250\n",
            "987/987 [==============================] - 0s 153us/step - loss: 0.6575 - acc: 0.6190 - val_loss: 0.6664 - val_acc: 0.6127\n",
            "Epoch 224/250\n",
            "987/987 [==============================] - 0s 151us/step - loss: 0.6517 - acc: 0.6120 - val_loss: 0.6711 - val_acc: 0.6107\n",
            "Epoch 225/250\n",
            "987/987 [==============================] - 0s 143us/step - loss: 0.6507 - acc: 0.6190 - val_loss: 0.6833 - val_acc: 0.5963\n",
            "Epoch 226/250\n",
            "987/987 [==============================] - 0s 154us/step - loss: 0.6546 - acc: 0.6140 - val_loss: 0.6683 - val_acc: 0.6168\n",
            "Epoch 227/250\n",
            "987/987 [==============================] - 0s 153us/step - loss: 0.6476 - acc: 0.6221 - val_loss: 0.6674 - val_acc: 0.6127\n",
            "Epoch 228/250\n",
            "987/987 [==============================] - 0s 142us/step - loss: 0.6514 - acc: 0.6140 - val_loss: 0.6793 - val_acc: 0.6107\n",
            "Epoch 229/250\n",
            "987/987 [==============================] - 0s 159us/step - loss: 0.6496 - acc: 0.6292 - val_loss: 0.6683 - val_acc: 0.6066\n",
            "Epoch 230/250\n",
            "987/987 [==============================] - 0s 152us/step - loss: 0.6515 - acc: 0.6292 - val_loss: 0.6681 - val_acc: 0.6066\n",
            "Epoch 231/250\n",
            "987/987 [==============================] - 0s 161us/step - loss: 0.6513 - acc: 0.6089 - val_loss: 0.6639 - val_acc: 0.6045\n",
            "Epoch 232/250\n",
            "840/987 [========================>.....] - ETA: 0s - loss: 0.6561 - acc: 0.6179"
          ],
          "name": "stdout"
        },
        {
          "output_type": "stream",
          "text": [
            "987/987 [==============================] - 0s 151us/step - loss: 0.6558 - acc: 0.6190 - val_loss: 0.6640 - val_acc: 0.5943\n",
            "Epoch 233/250\n",
            "987/987 [==============================] - 0s 156us/step - loss: 0.6501 - acc: 0.6211 - val_loss: 0.6591 - val_acc: 0.6066\n",
            "Epoch 234/250\n",
            "987/987 [==============================] - 0s 151us/step - loss: 0.6516 - acc: 0.6190 - val_loss: 0.6652 - val_acc: 0.6168\n",
            "Epoch 235/250\n",
            "987/987 [==============================] - 0s 159us/step - loss: 0.6603 - acc: 0.6109 - val_loss: 0.6695 - val_acc: 0.6148\n",
            "Epoch 236/250\n",
            "987/987 [==============================] - 0s 153us/step - loss: 0.6501 - acc: 0.6231 - val_loss: 0.6987 - val_acc: 0.5902\n",
            "Epoch 237/250\n",
            "987/987 [==============================] - 0s 147us/step - loss: 0.6621 - acc: 0.6231 - val_loss: 0.6713 - val_acc: 0.6107\n",
            "Epoch 238/250\n",
            "987/987 [==============================] - 0s 151us/step - loss: 0.6482 - acc: 0.6292 - val_loss: 0.6756 - val_acc: 0.6086\n",
            "Epoch 239/250\n",
            "987/987 [==============================] - 0s 160us/step - loss: 0.6490 - acc: 0.6079 - val_loss: 0.6732 - val_acc: 0.6004\n",
            "Epoch 240/250\n",
            "987/987 [==============================] - 0s 156us/step - loss: 0.6481 - acc: 0.6160 - val_loss: 0.6634 - val_acc: 0.6107\n",
            "Epoch 241/250\n",
            "987/987 [==============================] - 0s 152us/step - loss: 0.6527 - acc: 0.6079 - val_loss: 0.6698 - val_acc: 0.5984\n",
            "Epoch 242/250\n",
            "987/987 [==============================] - 0s 147us/step - loss: 0.6536 - acc: 0.6130 - val_loss: 0.6807 - val_acc: 0.6025\n",
            "Epoch 243/250\n",
            "987/987 [==============================] - 0s 152us/step - loss: 0.6455 - acc: 0.6231 - val_loss: 0.6638 - val_acc: 0.5820\n",
            "Epoch 244/250\n",
            "987/987 [==============================] - 0s 153us/step - loss: 0.6559 - acc: 0.6120 - val_loss: 0.6600 - val_acc: 0.6148\n",
            "Epoch 245/250\n",
            "987/987 [==============================] - 0s 154us/step - loss: 0.6577 - acc: 0.6150 - val_loss: 0.6655 - val_acc: 0.6107\n",
            "Epoch 246/250\n",
            "987/987 [==============================] - 0s 154us/step - loss: 0.6471 - acc: 0.6231 - val_loss: 0.6634 - val_acc: 0.6127\n",
            "Epoch 247/250\n",
            "987/987 [==============================] - 0s 150us/step - loss: 0.6508 - acc: 0.6272 - val_loss: 0.7151 - val_acc: 0.6004\n",
            "Epoch 248/250\n",
            "987/987 [==============================] - 0s 156us/step - loss: 0.6619 - acc: 0.5957 - val_loss: 0.6638 - val_acc: 0.6148\n",
            "Epoch 249/250\n",
            "987/987 [==============================] - 0s 158us/step - loss: 0.6534 - acc: 0.6282 - val_loss: 0.6639 - val_acc: 0.5984\n",
            "Epoch 250/250\n",
            " 20/987 [..............................] - ETA: 0s - loss: 0.6957 - acc: 0.5500"
          ],
          "name": "stdout"
        },
        {
          "output_type": "stream",
          "text": [
            "987/987 [==============================] - 0s 155us/step - loss: 0.6515 - acc: 0.6211 - val_loss: 0.6726 - val_acc: 0.6004\n"
          ],
          "name": "stdout"
        }
      ]
    },
    {
      "metadata": {
        "id": "hWEAiOSB0U_n",
        "colab_type": "code",
        "colab": {
          "base_uri": "https://localhost:8080/",
          "height": 70
        },
        "outputId": "1083708f-3e17-4e94-d0dd-053d8f216cf5"
      },
      "cell_type": "code",
      "source": [
        "print(history.history.keys())  \n",
        "plt.figure(1)  "
      ],
      "execution_count": 31,
      "outputs": [
        {
          "output_type": "stream",
          "text": [
            "dict_keys(['val_loss', 'val_acc', 'loss', 'acc'])\n"
          ],
          "name": "stdout"
        },
        {
          "output_type": "execute_result",
          "data": {
            "text/plain": [
              "<matplotlib.figure.Figure at 0x7f9a85a6fe10>"
            ]
          },
          "metadata": {
            "tags": []
          },
          "execution_count": 31
        },
        {
          "output_type": "display_data",
          "data": {
            "text/plain": [
              "<matplotlib.figure.Figure at 0x7f9a85a6fe10>"
            ]
          },
          "metadata": {
            "tags": []
          }
        }
      ]
    },
    {
      "metadata": {
        "id": "QVaYKS_3-VpK",
        "colab_type": "text"
      },
      "cell_type": "markdown",
      "source": [
        "Training Data Accuracy Graph"
      ]
    },
    {
      "metadata": {
        "id": "A-TRftdR0c9W",
        "colab_type": "code",
        "colab": {
          "base_uri": "https://localhost:8080/",
          "height": 231
        },
        "outputId": "11b98375-3bd1-48c1-a9c9-00bca9479ea6"
      },
      "cell_type": "code",
      "source": [
        "\n",
        "plt.subplot(211)  \n",
        "plt.plot(history.history['acc'])  \n",
        "plt.plot(history.history['val_acc'])  \n",
        "plt.title('model accuracy')  \n",
        "plt.ylabel('accuracy')  \n",
        "plt.xlabel('epoch')  \n",
        "plt.legend(['train', 'test'], loc='upper left') "
      ],
      "execution_count": 32,
      "outputs": [
        {
          "output_type": "execute_result",
          "data": {
            "text/plain": [
              "<matplotlib.legend.Legend at 0x7f9a85adee80>"
            ]
          },
          "metadata": {
            "tags": []
          },
          "execution_count": 32
        },
        {
          "output_type": "display_data",
          "data": {
            "image/png": "[encoded data removed]",
            "text/plain": [
              "<matplotlib.figure.Figure at 0x7f9a85ab25c0>"
            ]
          },
          "metadata": {
            "tags": []
          }
        }
      ]
    },
    {
      "metadata": {
        "id": "PdBQozMt-6Jd",
        "colab_type": "text"
      },
      "cell_type": "markdown",
      "source": [
        "Training Data Loss Graph"
      ]
    },
    {
      "metadata": {
        "id": "k50CZH_r_R7a",
        "colab_type": "code",
        "colab": {
          "base_uri": "https://localhost:8080/",
          "height": 213
        },
        "outputId": "e3aa175b-951a-4afe-9441-fba52c5d3fd4"
      },
      "cell_type": "code",
      "source": [
        "plt.subplot(212)  \n",
        "plt.plot(history.history['loss'])  \n",
        "plt.plot(history.history['val_loss'])  \n",
        "plt.title('model loss')  \n",
        "plt.ylabel('loss')  \n",
        "plt.xlabel('epoch')  \n",
        "plt.legend(['train', 'test'], loc='upper left')  \n",
        "plt.show()  "
      ],
      "execution_count": 33,
      "outputs": [
        {
          "output_type": "display_data",
          "data": {
            "image/png": "[encoded data removed]",
            "text/plain": [
              "<matplotlib.figure.Figure at 0x7f9a85a93860>"
            ]
          },
          "metadata": {
            "tags": []
          }
        }
      ]
    },
    {
      "metadata": {
        "id": "QXPINdFTQReO",
        "colab_type": "text"
      },
      "cell_type": "markdown",
      "source": [
        "Upload Liberty League files: \"LibertyLeagueStatsRebutta\" and \"LibertyLeagueWins\""
      ]
    },
    {
      "metadata": {
        "id": "lKkSJKpE84Z0",
        "colab_type": "code",
        "colab": {
          "resources": {
            "http://localhost:8080/nbextensions/google.colab/files.js": {
              "data": "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",
              "ok": true,
              "headers": [
                [
                  "content-type",
                  "application/javascript"
                ]
              ],
              "status": 200,
              "status_text": ""
            }
          },
          "base_uri": "https://localhost:8080/",
          "height": 143
        },
        "outputId": "198b11c5-19d8-4e96-a7ff-7c7cbcfef6d1"
      },
      "cell_type": "code",
      "source": [
        "from google.colab import files\n",
        "uploaded = files.upload()\n",
        "for fn in uploaded.keys():\n",
        "  print('User uploaded file \"{name}\" with length {length} bytes'.format(name=fn, length=len(uploaded[fn])))"
      ],
      "execution_count": 34,
      "outputs": [
        {
          "output_type": "display_data",
          "data": {
            "text/html": [
              "\n",
              "     <input type=\"file\" id=\"files-67135861-7978-425b-8804-9274e900468f\" name=\"files[]\" multiple disabled />\n",
              "     <output id=\"result-67135861-7978-425b-8804-9274e900468f\">\n",
              "      Upload widget is only available when the cell has been executed in the\n",
              "      current browser session. Please rerun this cell to enable.\n",
              "      </output>\n",
              "      <script src=\"/nbextensions/google.colab/files.js\"></script> "
            ],
            "text/plain": [
              "<IPython.core.display.HTML object>"
            ]
          },
          "metadata": {
            "tags": []
          }
        },
        {
          "output_type": "stream",
          "text": [
            "Saving LibertyLeagueStatsRebutta.csv to LibertyLeagueStatsRebutta.csv\n",
            "Saving LibertyLeagueWins.csv to LibertyLeagueWins.csv\n",
            "User uploaded file \"LibertyLeagueStatsRebutta.csv\" with length 2336 bytes\n",
            "User uploaded file \"LibertyLeagueWins.csv\" with length 78 bytes\n"
          ],
          "name": "stdout"
        }
      ]
    },
    {
      "metadata": {
        "id": "YO1EgpMs-CHx",
        "colab_type": "text"
      },
      "cell_type": "markdown",
      "source": [
        "Format the liberty league data appropriately"
      ]
    },
    {
      "metadata": {
        "id": "IG_mhQMx9Tmg",
        "colab_type": "code",
        "colab": {
          "base_uri": "https://localhost:8080/",
          "height": 35
        },
        "outputId": "dc0055f3-5459-4e85-9252-7133420d22df"
      },
      "cell_type": "code",
      "source": [
        "libertyleaguestats = pd.read_csv(io.StringIO(uploaded['LibertyLeagueStatsRebutta.csv'].decode('utf-8')), header = 0)\n",
        "libertyleagueswins = pd.read_csv(io.StringIO(uploaded['LibertyLeagueWins.csv'].decode('utf-8')), header = 0)\n",
        "\n",
        "libertyleaguestats = libertyleaguestats.drop(libertyleaguestats.columns[0], axis=1)\n",
        "libertyleagueswins = libertyleagueswins.drop(libertyleagueswins.columns[0], axis=1)\n",
        "\n",
        "libertyleaguestats = libertyleaguestats.values\n",
        "libertyleagueswins = libertyleagueswins.values\n",
        "\n",
        "libertyleaguestats.shape"
      ],
      "execution_count": 35,
      "outputs": [
        {
          "output_type": "execute_result",
          "data": {
            "text/plain": [
              "(7, 36)"
            ]
          },
          "metadata": {
            "tags": []
          },
          "execution_count": 35
        }
      ]
    },
    {
      "metadata": {
        "id": "wvx31ecc-F6w",
        "colab_type": "text"
      },
      "cell_type": "markdown",
      "source": [
        "Reshape the liberty league data"
      ]
    },
    {
      "metadata": {
        "id": "zXhDGWSeBbpK",
        "colab_type": "code",
        "colab": {}
      },
      "cell_type": "code",
      "source": [
        "libertyleaguestats = libertyleaguestats.reshape(7,36,1)\n",
        "libertyleagueswins = libertyleagueswins.reshape(7,1)"
      ],
      "execution_count": 0,
      "outputs": []
    },
    {
      "metadata": {
        "id": "u7QJzUmtQaHd",
        "colab_type": "text"
      },
      "cell_type": "markdown",
      "source": [
        "Predictions for liberty league games:"
      ]
    },
    {
      "metadata": {
        "id": "2S6Y2gd_3BqE",
        "colab_type": "code",
        "colab": {
          "base_uri": "https://localhost:8080/",
          "height": 141
        },
        "outputId": "4cf1731d-00bb-470b-b2b5-c035aeb1b25d"
      },
      "cell_type": "code",
      "source": [
        "libleaguetests = model.predict_classes(libertyleaguestats)\n",
        "libleaguetests"
      ],
      "execution_count": 37,
      "outputs": [
        {
          "output_type": "execute_result",
          "data": {
            "text/plain": [
              "array([[0],\n",
              "       [0],\n",
              "       [0],\n",
              "       [0],\n",
              "       [0],\n",
              "       [0],\n",
              "       [0]], dtype=int32)"
            ]
          },
          "metadata": {
            "tags": []
          },
          "execution_count": 37
        }
      ]
    },
    {
      "metadata": {
        "id": "BepdnwB3Qdx-",
        "colab_type": "text"
      },
      "cell_type": "markdown",
      "source": [
        "Actual results for these games:"
      ]
    },
    {
      "metadata": {
        "id": "MLGkYcQfD6mC",
        "colab_type": "code",
        "colab": {
          "base_uri": "https://localhost:8080/",
          "height": 141
        },
        "outputId": "77e3a38e-2c39-42a5-f64d-4b23db825a84"
      },
      "cell_type": "code",
      "source": [
        "libertyleagueswins\n"
      ],
      "execution_count": 38,
      "outputs": [
        {
          "output_type": "execute_result",
          "data": {
            "text/plain": [
              "array([[1],\n",
              "       [1],\n",
              "       [1],\n",
              "       [0],\n",
              "       [0],\n",
              "       [0],\n",
              "       [1]])"
            ]
          },
          "metadata": {
            "tags": []
          },
          "execution_count": 38
        }
      ]
    }
  ]
}